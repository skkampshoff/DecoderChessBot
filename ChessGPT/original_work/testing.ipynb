{
 "cells": [
  {
   "cell_type": "code",
   "execution_count": 1,
   "id": "d3e20b2b",
   "metadata": {},
   "outputs": [],
   "source": [
    "import torch\n",
    "from torch.utils.data import DataLoader, TensorDataset\n",
    "import json\n",
    "\n",
    "with open('move_to_id.json', 'r') as f:\n",
    "    move_to_id = json.load(f)\n",
    "PAD_ID = move_to_id[\"<PAD>\"]\n",
    "\n",
    "# Load the single tensor\n",
    "encoded_tensor = torch.load('encoded_games_test.pt')\n",
    "\n",
    "# Shift for X and Y\n",
    "X_test = encoded_tensor[:, :-1]\n",
    "Y_test = encoded_tensor[:, 1:]\n",
    "\n",
    "test_dataset = TensorDataset(X_test, Y_test)\n",
    "test_loader = DataLoader(test_dataset, batch_size=64, shuffle=False)\n"
   ]
  },
  {
   "cell_type": "code",
   "execution_count": 2,
   "id": "4667a85f",
   "metadata": {},
   "outputs": [],
   "source": [
    "import torch.nn as nn\n",
    "\n",
    "class ChessDecoder(nn.Module):\n",
    "    def __init__(self, vocab_size, d_model=256, nhead=8, num_layers=4, max_len=200):\n",
    "        super().__init__()\n",
    "        self.embed = nn.Embedding(vocab_size, d_model)\n",
    "        self.pos_embed = nn.Embedding(max_len, d_model)\n",
    "        decoder_layer = nn.TransformerDecoderLayer(d_model=d_model, nhead=nhead, dim_feedforward=1024)\n",
    "        self.decoder = nn.TransformerDecoder(decoder_layer, num_layers=num_layers)\n",
    "        self.fc_out = nn.Linear(d_model, vocab_size)\n",
    "\n",
    "    def forward(self, x):\n",
    "        # x shape: [batch, seq_len] → transformer expects [seq_len, batch]\n",
    "        x = x.transpose(0, 1)\n",
    "        seq_len, batch_size = x.size()\n",
    "\n",
    "        # Add embeddings\n",
    "        positions = torch.arange(seq_len, device=x.device).unsqueeze(1)\n",
    "        x = self.embed(x) + self.pos_embed(positions)\n",
    "\n",
    "        # Decoder masking: prevent attention to future tokens\n",
    "        mask = torch.triu(torch.ones(seq_len, seq_len, device=x.device), diagonal=1).bool()\n",
    "\n",
    "        x = self.decoder(x, x, tgt_mask=mask)\n",
    "        logits = self.fc_out(x)  # [seq_len, batch, vocab_size]\n",
    "        return logits.transpose(0, 1)  # [batch, seq_len, vocab_size]"
   ]
  },
  {
   "cell_type": "code",
   "execution_count": 3,
   "id": "579b99de",
   "metadata": {},
   "outputs": [
    {
     "name": "stdout",
     "output_type": "stream",
     "text": [
      "On device cuda\n"
     ]
    },
    {
     "data": {
      "text/plain": [
       "ChessDecoder(\n",
       "  (embed): Embedding(11017, 512)\n",
       "  (pos_embed): Embedding(200, 512)\n",
       "  (decoder): TransformerDecoder(\n",
       "    (layers): ModuleList(\n",
       "      (0-2): 3 x TransformerDecoderLayer(\n",
       "        (self_attn): MultiheadAttention(\n",
       "          (out_proj): NonDynamicallyQuantizableLinear(in_features=512, out_features=512, bias=True)\n",
       "        )\n",
       "        (multihead_attn): MultiheadAttention(\n",
       "          (out_proj): NonDynamicallyQuantizableLinear(in_features=512, out_features=512, bias=True)\n",
       "        )\n",
       "        (linear1): Linear(in_features=512, out_features=1024, bias=True)\n",
       "        (dropout): Dropout(p=0.1, inplace=False)\n",
       "        (linear2): Linear(in_features=1024, out_features=512, bias=True)\n",
       "        (norm1): LayerNorm((512,), eps=1e-05, elementwise_affine=True)\n",
       "        (norm2): LayerNorm((512,), eps=1e-05, elementwise_affine=True)\n",
       "        (norm3): LayerNorm((512,), eps=1e-05, elementwise_affine=True)\n",
       "        (dropout1): Dropout(p=0.1, inplace=False)\n",
       "        (dropout2): Dropout(p=0.1, inplace=False)\n",
       "        (dropout3): Dropout(p=0.1, inplace=False)\n",
       "      )\n",
       "    )\n",
       "  )\n",
       "  (fc_out): Linear(in_features=512, out_features=11017, bias=True)\n",
       ")"
      ]
     },
     "execution_count": 3,
     "metadata": {},
     "output_type": "execute_result"
    }
   ],
   "source": [
    "vocab_size = len(move_to_id)\n",
    "device = torch.device('cuda' if torch.cuda.is_available() else 'cpu')\n",
    "print(f'On device {device}')\n",
    "\n",
    "with open(\"best_hparams.json\", \"r\") as f:\n",
    "    best_hparams = json.load(f)\n",
    "\n",
    "params = best_hparams[\"best_params\"]\n",
    "\n",
    "# Rebuild model (same as in training)\n",
    "model = ChessDecoder(\n",
    "    vocab_size=vocab_size,\n",
    "    d_model=params[\"d_model\"],\n",
    "    nhead=params[\"nhead\"],\n",
    "    num_layers=params[\"num_layers\"],\n",
    "    max_len=200 # X_test.size(1)\n",
    ").to(device)\n",
    "\n",
    "# Load weights if you saved them\n",
    "model.load_state_dict(torch.load(\"500k_model.pt\", map_location=device))\n",
    "\n",
    "model.eval()\n"
   ]
  },
  {
   "cell_type": "code",
   "execution_count": 4,
   "id": "fc86d0cb",
   "metadata": {},
   "outputs": [],
   "source": [
    "import torch.nn.functional as F\n",
    "\n",
    "all_preds = []\n",
    "all_labels = []\n",
    "total_loss = 0\n",
    "total_tokens = 0\n",
    "\n",
    "with torch.no_grad():\n",
    "    for x, y in test_loader:\n",
    "        x = x.to(device)\n",
    "        y = y.to(device)\n",
    "\n",
    "        logits = model(x)\n",
    "\n",
    "        loss = F.cross_entropy(\n",
    "            logits.reshape(-1, vocab_size),\n",
    "            y.reshape(-1),\n",
    "            ignore_index=PAD_ID,\n",
    "            reduction='sum'\n",
    "        )\n",
    "        total_loss += loss.item()\n",
    "        total_tokens += (y != PAD_ID).sum().item()\n",
    "\n",
    "        preds = torch.argmax(logits, dim=-1)\n",
    "\n",
    "        # mask out padding so it doesn't affect metrics\n",
    "        mask = (y != PAD_ID).reshape(-1)\n",
    "        all_preds.extend(preds.reshape(-1)[mask].cpu().numpy())\n",
    "        all_labels.extend(y.reshape(-1)[mask].cpu().numpy())\n",
    "\n",
    "avg_loss = total_loss / total_tokens"
   ]
  },
  {
   "cell_type": "code",
   "execution_count": null,
   "id": "a3251d78",
   "metadata": {},
   "outputs": [
    {
     "name": "stdout",
     "output_type": "stream",
     "text": [
      "Test Loss: 0.0019\n",
      "Accuracy: 0.9996\n",
      "F1 Score: 0.9969\n",
      "Cohen's Kappa: 0.9996\n"
     ]
    }
   ],
   "source": [
    "from sklearn.metrics import accuracy_score, f1_score, cohen_kappa_score\n",
    "\n",
    "acc = accuracy_score(all_labels, all_preds)\n",
    "f1 = f1_score(all_labels, all_preds, average='macro')  # or 'weighted'\n",
    "kappa = cohen_kappa_score(all_labels, all_preds)\n",
    "\n",
    "print(f\"Test Loss: {avg_loss:.4f}\")\n",
    "print(f\"Accuracy: {acc:.4f}\")\n",
    "print(f\"F1 Score: {f1:.4f}\")\n",
    "print(f\"Cohen's Kappa: {kappa:.4f}\")\n"
   ]
  }
 ],
 "metadata": {
  "kernelspec": {
   "display_name": "venv",
   "language": "python",
   "name": "python3"
  },
  "language_info": {
   "codemirror_mode": {
    "name": "ipython",
    "version": 3
   },
   "file_extension": ".py",
   "mimetype": "text/x-python",
   "name": "python",
   "nbconvert_exporter": "python",
   "pygments_lexer": "ipython3",
   "version": "3.10.12"
  }
 },
 "nbformat": 4,
 "nbformat_minor": 5
}
